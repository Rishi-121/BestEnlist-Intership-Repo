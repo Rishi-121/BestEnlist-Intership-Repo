{
 "cells": [
  {
   "cell_type": "markdown",
   "metadata": {},
   "source": [
    "### Exception Handling"
   ]
  },
  {
   "cell_type": "code",
   "execution_count": 4,
   "metadata": {},
   "outputs": [
    {
     "name": "stdout",
     "output_type": "stream",
     "text": [
      "ArithmeticException: / by zero\n"
     ]
    }
   ],
   "source": [
    "a = 10\n",
    "\n",
    "try:\n",
    "    \n",
    "    b = a/0\n",
    "\n",
    "except:\n",
    "    \n",
    "    print(\"ArithmeticException: / by zero\")\n",
    "    \n"
   ]
  },
  {
   "cell_type": "code",
   "execution_count": 5,
   "metadata": {},
   "outputs": [
    {
     "name": "stdout",
     "output_type": "stream",
     "text": [
      "Player isn't defined\n"
     ]
    }
   ],
   "source": [
    "try:\n",
    "    print(player)\n",
    "\n",
    "except NameError:\n",
    "    \n",
    "    print(\"Player isn't defined\")\n",
    "    \n",
    "except: \n",
    "    \n",
    "    print(\"End of Program\")"
   ]
  },
  {
   "cell_type": "code",
   "execution_count": 8,
   "metadata": {},
   "outputs": [
    {
     "name": "stdout",
     "output_type": "stream",
     "text": [
      "Exception\n"
     ]
    }
   ],
   "source": [
    "try:\n",
    "    \n",
    "    print(x)\n",
    "    \n",
    "except:\n",
    "    \n",
    "    print(\"Exception\")\n",
    "    \n",
    "else:\n",
    "    \n",
    "    print(\"End of Code\")\n",
    "    "
   ]
  },
  {
   "cell_type": "code",
   "execution_count": 10,
   "metadata": {},
   "outputs": [
    {
     "name": "stdout",
     "output_type": "stream",
     "text": [
      "Some value\n",
      "End of Code\n"
     ]
    }
   ],
   "source": [
    "x = \"Some value\"\n",
    "\n",
    "try:\n",
    "    \n",
    "    print(x)\n",
    "    \n",
    "except:\n",
    "    \n",
    "    print(\"Exception\")\n",
    "    \n",
    "else:\n",
    "    \n",
    "    print(\"End of Code\")\n",
    "    "
   ]
  },
  {
   "cell_type": "code",
   "execution_count": 12,
   "metadata": {},
   "outputs": [
    {
     "name": "stdout",
     "output_type": "stream",
     "text": [
      "Exception\n",
      "End of Code\n"
     ]
    }
   ],
   "source": [
    "# x = \"Some value\"\n",
    "\n",
    "try:\n",
    "    \n",
    "    print(y)\n",
    "    \n",
    "except:\n",
    "    \n",
    "    print(\"Exception\")\n",
    "    \n",
    "finally:\n",
    "    \n",
    "    print(\"End of Code\")\n",
    "    "
   ]
  },
  {
   "cell_type": "code",
   "execution_count": 13,
   "metadata": {},
   "outputs": [
    {
     "ename": "Exception",
     "evalue": "Sorry, no numbrs below zero",
     "output_type": "error",
     "traceback": [
      "\u001b[1;31m---------------------------------------------------------------------------\u001b[0m",
      "\u001b[1;31mException\u001b[0m                                 Traceback (most recent call last)",
      "\u001b[1;32m<ipython-input-13-28ac70819a5f>\u001b[0m in \u001b[0;36m<module>\u001b[1;34m\u001b[0m\n\u001b[0;32m      3\u001b[0m \u001b[1;32mif\u001b[0m \u001b[0mx\u001b[0m \u001b[1;33m<\u001b[0m \u001b[1;36m0\u001b[0m\u001b[1;33m:\u001b[0m\u001b[1;33m\u001b[0m\u001b[1;33m\u001b[0m\u001b[0m\n\u001b[0;32m      4\u001b[0m \u001b[1;33m\u001b[0m\u001b[0m\n\u001b[1;32m----> 5\u001b[1;33m     \u001b[1;32mraise\u001b[0m \u001b[0mException\u001b[0m\u001b[1;33m(\u001b[0m\u001b[1;34m\"Sorry, no numbrs below zero\"\u001b[0m\u001b[1;33m)\u001b[0m\u001b[1;33m\u001b[0m\u001b[1;33m\u001b[0m\u001b[0m\n\u001b[0m",
      "\u001b[1;31mException\u001b[0m: Sorry, no numbrs below zero"
     ]
    }
   ],
   "source": [
    "x = -1\n",
    "\n",
    "if x < 0:\n",
    "    \n",
    "    raise Exception(\"Sorry, no numbrs below zero\")\n"
   ]
  },
  {
   "cell_type": "markdown",
   "metadata": {},
   "source": [
    "### Task 1"
   ]
  },
  {
   "cell_type": "code",
   "execution_count": 15,
   "metadata": {},
   "outputs": [
    {
     "name": "stdout",
     "output_type": "stream",
     "text": [
      "End of Program\n"
     ]
    },
    {
     "ename": "Exception",
     "evalue": "Don't divide the numbers by zero",
     "output_type": "error",
     "traceback": [
      "\u001b[1;31m---------------------------------------------------------------------------\u001b[0m",
      "\u001b[1;31mZeroDivisionError\u001b[0m                         Traceback (most recent call last)",
      "\u001b[1;32m<ipython-input-15-1204d5b801e8>\u001b[0m in \u001b[0;36m<module>\u001b[1;34m\u001b[0m\n\u001b[0;32m      7\u001b[0m \u001b[1;33m\u001b[0m\u001b[0m\n\u001b[1;32m----> 8\u001b[1;33m     \u001b[0mprint\u001b[0m\u001b[1;33m(\u001b[0m\u001b[1;36m12\u001b[0m\u001b[1;33m/\u001b[0m\u001b[1;36m0\u001b[0m\u001b[1;33m)\u001b[0m\u001b[1;33m\u001b[0m\u001b[1;33m\u001b[0m\u001b[0m\n\u001b[0m\u001b[0;32m      9\u001b[0m \u001b[1;33m\u001b[0m\u001b[0m\n",
      "\u001b[1;31mZeroDivisionError\u001b[0m: division by zero",
      "\nDuring handling of the above exception, another exception occurred:\n",
      "\u001b[1;31mException\u001b[0m                                 Traceback (most recent call last)",
      "\u001b[1;32m<ipython-input-15-1204d5b801e8>\u001b[0m in \u001b[0;36m<module>\u001b[1;34m\u001b[0m\n\u001b[0;32m     10\u001b[0m \u001b[1;32mexcept\u001b[0m\u001b[1;33m:\u001b[0m\u001b[1;33m\u001b[0m\u001b[1;33m\u001b[0m\u001b[0m\n\u001b[0;32m     11\u001b[0m \u001b[1;33m\u001b[0m\u001b[0m\n\u001b[1;32m---> 12\u001b[1;33m     \u001b[1;32mraise\u001b[0m \u001b[0mException\u001b[0m\u001b[1;33m(\u001b[0m\u001b[1;34m\"Don't divide the numbers by zero\"\u001b[0m\u001b[1;33m)\u001b[0m\u001b[1;33m\u001b[0m\u001b[1;33m\u001b[0m\u001b[0m\n\u001b[0m\u001b[0;32m     13\u001b[0m \u001b[1;33m\u001b[0m\u001b[0m\n\u001b[0;32m     14\u001b[0m \u001b[1;32mfinally\u001b[0m\u001b[1;33m:\u001b[0m\u001b[1;33m\u001b[0m\u001b[1;33m\u001b[0m\u001b[0m\n",
      "\u001b[1;31mException\u001b[0m: Don't divide the numbers by zero"
     ]
    }
   ],
   "source": [
    "# / by zero\n",
    "\n",
    "try:\n",
    "    \n",
    "    print(12/0)\n",
    "    \n",
    "except:\n",
    "    \n",
    "    raise Exception(\"Don't divide the numbers by zero\")\n",
    "    \n",
    "finally:\n",
    "    \n",
    "    print(\"End of Program\")\n",
    "    \n",
    "# Exception: Don't divide the numbers by zero"
   ]
  },
  {
   "cell_type": "code",
   "execution_count": 16,
   "metadata": {},
   "outputs": [
    {
     "name": "stdout",
     "output_type": "stream",
     "text": [
      "Array Index Out of Bound Exception\n",
      "End of Code\n"
     ]
    }
   ],
   "source": [
    "# AIOBE - Array Index Out of Bound Exception\n",
    "\n",
    "myList = [1,2,3,4,5]\n",
    "\n",
    "try:\n",
    "    \n",
    "    print(myList[6])\n",
    "    \n",
    "except:\n",
    "    \n",
    "    print(\"Array Index Out of Bound Exception\")\n",
    "    \n",
    "finally:\n",
    "    \n",
    "    print(\"End of Code\")"
   ]
  },
  {
   "cell_type": "code",
   "execution_count": 18,
   "metadata": {},
   "outputs": [
    {
     "ename": "Exception",
     "evalue": "String types are immutable",
     "output_type": "error",
     "traceback": [
      "\u001b[1;31m---------------------------------------------------------------------------\u001b[0m",
      "\u001b[1;31mTypeError\u001b[0m                                 Traceback (most recent call last)",
      "\u001b[1;32m<ipython-input-18-61a32b09b3aa>\u001b[0m in \u001b[0;36m<module>\u001b[1;34m\u001b[0m\n\u001b[0;32m      6\u001b[0m \u001b[1;33m\u001b[0m\u001b[0m\n\u001b[1;32m----> 7\u001b[1;33m     \u001b[0mstr\u001b[0m\u001b[1;33m[\u001b[0m\u001b[1;36m0\u001b[0m\u001b[1;33m]\u001b[0m \u001b[1;33m=\u001b[0m \u001b[1;34m'h'\u001b[0m\u001b[1;33m\u001b[0m\u001b[1;33m\u001b[0m\u001b[0m\n\u001b[0m\u001b[0;32m      8\u001b[0m \u001b[1;33m\u001b[0m\u001b[0m\n",
      "\u001b[1;31mTypeError\u001b[0m: 'str' object does not support item assignment",
      "\nDuring handling of the above exception, another exception occurred:\n",
      "\u001b[1;31mException\u001b[0m                                 Traceback (most recent call last)",
      "\u001b[1;32m<ipython-input-18-61a32b09b3aa>\u001b[0m in \u001b[0;36m<module>\u001b[1;34m\u001b[0m\n\u001b[0;32m      9\u001b[0m \u001b[1;32mexcept\u001b[0m\u001b[1;33m:\u001b[0m\u001b[1;33m\u001b[0m\u001b[1;33m\u001b[0m\u001b[0m\n\u001b[0;32m     10\u001b[0m \u001b[1;33m\u001b[0m\u001b[0m\n\u001b[1;32m---> 11\u001b[1;33m     \u001b[1;32mraise\u001b[0m \u001b[0mException\u001b[0m\u001b[1;33m(\u001b[0m\u001b[1;34m\"String types are immutable\"\u001b[0m\u001b[1;33m)\u001b[0m\u001b[1;33m\u001b[0m\u001b[1;33m\u001b[0m\u001b[0m\n\u001b[0m",
      "\u001b[1;31mException\u001b[0m: String types are immutable"
     ]
    }
   ],
   "source": [
    "# TypeError\n",
    "\n",
    "str = \"Hello\"\n",
    "\n",
    "try:\n",
    "    \n",
    "    str[0] = 'h'\n",
    "\n",
    "except:\n",
    "    \n",
    "    raise Exception(\"String types are immutable\")"
   ]
  },
  {
   "cell_type": "code",
   "execution_count": 21,
   "metadata": {},
   "outputs": [
    {
     "name": "stdout",
     "output_type": "stream",
     "text": [
      "Name is not defined\n"
     ]
    }
   ],
   "source": [
    "# NameError\n",
    "\n",
    "a = \"Hello\"\n",
    "\n",
    "try:\n",
    "    \n",
    "    print(b)\n",
    "    \n",
    "except:\n",
    "    \n",
    "    print(\"Name is not defined\")\n",
    "    \n",
    "else:\n",
    "    \n",
    "    print(\"End of Code\")"
   ]
  },
  {
   "cell_type": "markdown",
   "metadata": {},
   "source": [
    "### Task 2"
   ]
  },
  {
   "cell_type": "code",
   "execution_count": 48,
   "metadata": {},
   "outputs": [
    {
     "name": "stdout",
     "output_type": "stream",
     "text": [
      "Enter First Number: 1\n",
      "Enter Second Number: 0\n",
      "Enter Arithmetic Operator: /\n",
      "/ by zero\n"
     ]
    }
   ],
   "source": [
    "try:\n",
    "    \n",
    "    n1,n2,operator = int(input(\"Enter First Number: \")), int(input(\"Enter Second Number: \")), input(\"Enter Arithmetic Operator: \")\n",
    "\n",
    "    if operator == '+':\n",
    "    \n",
    "        print(n1,\"+\",n2,\"=\",n1+n2)\n",
    "    \n",
    "    elif operator == '-':\n",
    "        \n",
    "        print(n1,\"-\",n2,\"=\",n1-n2)\n",
    "    \n",
    "    elif operator == '*':\n",
    "        \n",
    "        print(n1,\"*\",n2,\"=\",n1*n2)\n",
    "    \n",
    "    elif operator == '/':\n",
    "        \n",
    "        try:\n",
    "            \n",
    "            print(n1,\"/\",n2,\"=\",n1/n2)\n",
    "            \n",
    "        except ZeroDivisionError:\n",
    "            \n",
    "            print(\"/ by zero\")\n",
    "    \n",
    "    elif operator == '%':\n",
    "    \n",
    "        print(n1,\"%\",n2,\"=\",n1%n2)\n",
    "    \n",
    "    else:\n",
    "        \n",
    "        print(\"Invalid Operator\")\n",
    "        \n",
    "except:\n",
    "    \n",
    "    raise Exception(\"Invalid Input\")"
   ]
  },
  {
   "cell_type": "markdown",
   "metadata": {},
   "source": [
    "### Task 3"
   ]
  },
  {
   "cell_type": "code",
   "execution_count": 44,
   "metadata": {},
   "outputs": [
    {
     "name": "stdout",
     "output_type": "stream",
     "text": [
      "Value is not defined\n"
     ]
    }
   ],
   "source": [
    "try:\n",
    "    \n",
    "    print(val)\n",
    "\n",
    "except NameError:\n",
    "    \n",
    "    print(\"Value is not defined\")\n",
    "    \n",
    "except:\n",
    "    \n",
    "    raise Exception(self)"
   ]
  },
  {
   "cell_type": "markdown",
   "metadata": {},
   "source": [
    "### Task 4"
   ]
  },
  {
   "cell_type": "markdown",
   "metadata": {},
   "source": [
    "When the input is perfect, clear, and as per the requirement, then at that time, we can ignore the try-except block. "
   ]
  },
  {
   "cell_type": "markdown",
   "metadata": {},
   "source": [
    "### Task 5"
   ]
  },
  {
   "cell_type": "code",
   "execution_count": 47,
   "metadata": {},
   "outputs": [
    {
     "name": "stdout",
     "output_type": "stream",
     "text": [
      "10\n",
      "10\n"
     ]
    }
   ],
   "source": [
    "try:\n",
    "    \n",
    "    a = int(input())\n",
    "    \n",
    "    print(a)\n",
    "    \n",
    "except:\n",
    "    \n",
    "    raise Exception(\"Value is not defined\")"
   ]
  }
 ],
 "metadata": {
  "kernelspec": {
   "display_name": "Python 3",
   "language": "python",
   "name": "python3"
  },
  "language_info": {
   "codemirror_mode": {
    "name": "ipython",
    "version": 3
   },
   "file_extension": ".py",
   "mimetype": "text/x-python",
   "name": "python",
   "nbconvert_exporter": "python",
   "pygments_lexer": "ipython3",
   "version": "3.7.6"
  }
 },
 "nbformat": 4,
 "nbformat_minor": 4
}
