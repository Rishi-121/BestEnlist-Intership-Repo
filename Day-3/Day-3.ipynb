{
 "cells": [
  {
   "cell_type": "markdown",
   "metadata": {},
   "source": [
    "### Dictionary"
   ]
  },
  {
   "cell_type": "code",
   "execution_count": 1,
   "metadata": {},
   "outputs": [
    {
     "name": "stdout",
     "output_type": "stream",
     "text": [
      "{'Odisha': 'Bhubaneswar', 'Maharashtra': 'Mumbai', 'Telangana': 'Hyderabad', 'Karnataka': 'Bengalore', 'Bihar': 'Patna'}\n"
     ]
    }
   ],
   "source": [
    "'''\n",
    "    \n",
    "    1) Dictionary data structure is mutable and unordered in nature.\n",
    "    \n",
    "    2) It doesn't allow duplicate values.\n",
    "    \n",
    "    Syntax: dictionary = { key1: value1, key2: value2, key3: value3,...,keyN: valueN}\n",
    "\n",
    "'''\n",
    "capitals = {\n",
    "    \"Odisha\":\"Bhubaneswar\", \n",
    "    \"Maharashtra\":\"Mumbai\", \n",
    "    \"Telangana\":\"Hyderabad\",\n",
    "    \"Karnataka\":\"Bengalore\",\n",
    "    \"Bihar\":\"Patna\"\n",
    "}\n",
    "\n",
    "print(capitals)"
   ]
  },
  {
   "cell_type": "code",
   "execution_count": 2,
   "metadata": {},
   "outputs": [],
   "source": [
    "capitals[\"Goa\"] = \"Panaji\" # Insertion into the Dictionary"
   ]
  },
  {
   "cell_type": "code",
   "execution_count": 3,
   "metadata": {},
   "outputs": [
    {
     "data": {
      "text/plain": [
       "{'Odisha': 'Bhubaneswar',\n",
       " 'Maharashtra': 'Mumbai',\n",
       " 'Telangana': 'Hyderabad',\n",
       " 'Karnataka': 'Bengalore',\n",
       " 'Bihar': 'Patna',\n",
       " 'Goa': 'Panaji'}"
      ]
     },
     "execution_count": 3,
     "metadata": {},
     "output_type": "execute_result"
    }
   ],
   "source": [
    "capitals"
   ]
  },
  {
   "cell_type": "code",
   "execution_count": 9,
   "metadata": {},
   "outputs": [
    {
     "data": {
      "text/plain": [
       "dict_keys(['Odisha', 'Maharashtra', 'Telangana', 'Karnataka', 'Bihar', 'Goa'])"
      ]
     },
     "execution_count": 9,
     "metadata": {},
     "output_type": "execute_result"
    }
   ],
   "source": [
    "capitals.keys()"
   ]
  },
  {
   "cell_type": "code",
   "execution_count": 10,
   "metadata": {},
   "outputs": [
    {
     "data": {
      "text/plain": [
       "dict_values(['Bhubaneswar', 'Mumbai', 'Hyderabad', 'Bengalore', 'Patna', 'Panaji'])"
      ]
     },
     "execution_count": 10,
     "metadata": {},
     "output_type": "execute_result"
    }
   ],
   "source": [
    "capitals.values()"
   ]
  },
  {
   "cell_type": "code",
   "execution_count": 11,
   "metadata": {},
   "outputs": [
    {
     "data": {
      "text/plain": [
       "dict_items([('Odisha', 'Bhubaneswar'), ('Maharashtra', 'Mumbai'), ('Telangana', 'Hyderabad'), ('Karnataka', 'Bengalore'), ('Bihar', 'Patna'), ('Goa', 'Panaji')])"
      ]
     },
     "execution_count": 11,
     "metadata": {},
     "output_type": "execute_result"
    }
   ],
   "source": [
    "capitals.items()"
   ]
  },
  {
   "cell_type": "code",
   "execution_count": 8,
   "metadata": {},
   "outputs": [
    {
     "data": {
      "text/plain": [
       "'Panaji'"
      ]
     },
     "execution_count": 8,
     "metadata": {},
     "output_type": "execute_result"
    }
   ],
   "source": [
    "capitals.get(\"Goa\")"
   ]
  },
  {
   "cell_type": "code",
   "execution_count": 37,
   "metadata": {},
   "outputs": [
    {
     "name": "stdout",
     "output_type": "stream",
     "text": [
      "None\n"
     ]
    }
   ],
   "source": [
    "print(capitals.get(\"Jharkhand\",None)) # If the key doesn't exist, then it will return the specified default value."
   ]
  },
  {
   "cell_type": "code",
   "execution_count": 22,
   "metadata": {},
   "outputs": [
    {
     "name": "stdout",
     "output_type": "stream",
     "text": [
      "{'a': 'Vowel', 'e': 'Vowel', 'i': 'Vowel', 'o': 'Vowel', 'u': 'Vowel'}\n"
     ]
    }
   ],
   "source": [
    "alphabets = ['a','e','i','o','u']\n",
    "\n",
    "vowels = dict.fromkeys(alphabets,\"Vowel\")\n",
    "\n",
    "print(vowels)"
   ]
  },
  {
   "cell_type": "code",
   "execution_count": 23,
   "metadata": {},
   "outputs": [
    {
     "data": {
      "text/plain": [
       "'u'"
      ]
     },
     "execution_count": 23,
     "metadata": {},
     "output_type": "execute_result"
    }
   ],
   "source": [
    "alphabets.pop()"
   ]
  },
  {
   "cell_type": "code",
   "execution_count": 25,
   "metadata": {},
   "outputs": [
    {
     "data": {
      "text/plain": [
       "('u', 'Vowel')"
      ]
     },
     "execution_count": 25,
     "metadata": {},
     "output_type": "execute_result"
    }
   ],
   "source": [
    "vowels.popitem()"
   ]
  },
  {
   "cell_type": "code",
   "execution_count": 29,
   "metadata": {},
   "outputs": [
    {
     "data": {
      "text/plain": [
       "'Bhubaneswar'"
      ]
     },
     "execution_count": 29,
     "metadata": {},
     "output_type": "execute_result"
    }
   ],
   "source": [
    "capitals.setdefault(\"Odisha\")"
   ]
  },
  {
   "cell_type": "code",
   "execution_count": 40,
   "metadata": {},
   "outputs": [
    {
     "name": "stdout",
     "output_type": "stream",
     "text": [
      "{'Odisha': 'Bhubaneswar', 'Maharashtra': 'Mumbai', 'Telangana': 'Hyderabad', 'Karnataka': 'Bengalore', 'Bihar': 'Patna', 'Goa': 'Panaji', 'Jharkhand': 'Ranchi'}\n"
     ]
    }
   ],
   "source": [
    "capitals.update({\"Jharkhand\":\"Ranchi\"})\n",
    "\n",
    "print(capitals)"
   ]
  },
  {
   "cell_type": "code",
   "execution_count": 39,
   "metadata": {},
   "outputs": [
    {
     "name": "stdout",
     "output_type": "stream",
     "text": [
      "{1: 'a', 2: 'b'}\n"
     ]
    }
   ],
   "source": [
    "a = {1:'a',2:'b'}\n",
    "\n",
    "b = a.copy()\n",
    "\n",
    "print(b)"
   ]
  },
  {
   "cell_type": "code",
   "execution_count": 44,
   "metadata": {},
   "outputs": [
    {
     "name": "stdout",
     "output_type": "stream",
     "text": [
      "{}\n"
     ]
    }
   ],
   "source": [
    "a.clear()\n",
    "\n",
    "print(a)"
   ]
  },
  {
   "cell_type": "markdown",
   "metadata": {},
   "source": [
    "### Set"
   ]
  },
  {
   "cell_type": "code",
   "execution_count": 52,
   "metadata": {},
   "outputs": [
    {
     "name": "stdout",
     "output_type": "stream",
     "text": [
      "{'Jadeja', 'Dhoni', 'Bravo'}\n"
     ]
    }
   ],
   "source": [
    "'''\n",
    "    1) The set is a data structure and, it's generally unordered and immutable in nature.\n",
    "    \n",
    "    Syntax: set = { value1 ,value2,....,valueN}\n",
    "    \n",
    "'''\n",
    "\n",
    "CSK = {\"Dhoni\",\"Bravo\",\"Jadeja\"}\n",
    "\n",
    "print(CSK)"
   ]
  },
  {
   "cell_type": "code",
   "execution_count": 53,
   "metadata": {},
   "outputs": [
    {
     "name": "stdout",
     "output_type": "stream",
     "text": [
      "<class 'set'>\n"
     ]
    }
   ],
   "source": [
    "print(type(CSK))"
   ]
  },
  {
   "cell_type": "code",
   "execution_count": 54,
   "metadata": {},
   "outputs": [
    {
     "name": "stdout",
     "output_type": "stream",
     "text": [
      "{'Jadeja', 'Dhoni', 'Bravo', 'Kedar Jadhav'}\n"
     ]
    }
   ],
   "source": [
    "CSK.add(\"Kedar Jadhav\")\n",
    "\n",
    "print(CSK)"
   ]
  },
  {
   "cell_type": "code",
   "execution_count": 58,
   "metadata": {},
   "outputs": [
    {
     "data": {
      "text/plain": [
       "{'Bravo', 'Dhoni', 'Jadeja', 'Kedar Jadhav'}"
      ]
     },
     "execution_count": 58,
     "metadata": {},
     "output_type": "execute_result"
    }
   ],
   "source": [
    "CSK # Unordered Nature of the Set"
   ]
  },
  {
   "cell_type": "code",
   "execution_count": 59,
   "metadata": {},
   "outputs": [
    {
     "name": "stdout",
     "output_type": "stream",
     "text": [
      "{'Dhoni', 'Bravo', 'Kedar Jadhav'}\n"
     ]
    }
   ],
   "source": [
    "CSK.remove(\"Jadeja\")\n",
    "\n",
    "print(CSK)"
   ]
  },
  {
   "cell_type": "code",
   "execution_count": 69,
   "metadata": {},
   "outputs": [
    {
     "name": "stdout",
     "output_type": "stream",
     "text": [
      "{1: 'a', 2: 'b', 3: 'c', 4: 'd', 5: 'e'}\n"
     ]
    }
   ],
   "source": [
    "# Task 1\n",
    "\n",
    "dict1 = {1:'a',2:'b',3:'c'}\n",
    "\n",
    "dict2 = {4:'d',5:'e'}\n",
    "\n",
    "dict1.update(dict2)\n",
    "\n",
    "print(dict1)"
   ]
  },
  {
   "cell_type": "code",
   "execution_count": 70,
   "metadata": {},
   "outputs": [
    {
     "name": "stdout",
     "output_type": "stream",
     "text": [
      "{4: 'd'}\n"
     ]
    }
   ],
   "source": [
    "# Task 2\n",
    "\n",
    "dict3 = dict2.copy()\n",
    "\n",
    "del dict2[5]\n",
    "\n",
    "print(dict2)"
   ]
  },
  {
   "cell_type": "code",
   "execution_count": 71,
   "metadata": {},
   "outputs": [
    {
     "data": {
      "text/plain": [
       "{4: 'd', 5: 'e'}"
      ]
     },
     "execution_count": 71,
     "metadata": {},
     "output_type": "execute_result"
    }
   ],
   "source": [
    "dict3"
   ]
  },
  {
   "cell_type": "code",
   "execution_count": 72,
   "metadata": {},
   "outputs": [
    {
     "name": "stdout",
     "output_type": "stream",
     "text": [
      "{4: 'd'}\n"
     ]
    }
   ],
   "source": [
    "dict3.popitem()\n",
    "\n",
    "print(dict3)"
   ]
  },
  {
   "cell_type": "code",
   "execution_count": 76,
   "metadata": {},
   "outputs": [
    {
     "name": "stdout",
     "output_type": "stream",
     "text": [
      "{'a': 'Vowel', 'e': 'Vowel', 'i': 'Vowel', 'o': 'Vowel', 'u': 'Vowel'}\n"
     ]
    }
   ],
   "source": [
    "# Task 3\n",
    "\n",
    "list1 = ['a','e','i','o','u']\n",
    "list2 = 'Vowel'\n",
    "\n",
    "newVowels = dict.fromkeys(list1,list2)\n",
    "\n",
    "print(newVowels)"
   ]
  },
  {
   "cell_type": "code",
   "execution_count": 78,
   "metadata": {},
   "outputs": [
    {
     "name": "stdout",
     "output_type": "stream",
     "text": [
      "{1: 'a', 2: 'b', 3: 'c', 4: 'd', 5: 'e'}\n"
     ]
    }
   ],
   "source": [
    "list3 = [1, 2, 3, 4, 5]\n",
    "list4 = ['a', 'b', 'c', 'd', 'e']\n",
    "\n",
    "print(dict(zip(list3,list4)))"
   ]
  },
  {
   "cell_type": "code",
   "execution_count": 129,
   "metadata": {},
   "outputs": [
    {
     "name": "stdout",
     "output_type": "stream",
     "text": [
      "3\n"
     ]
    }
   ],
   "source": [
    "# Task 4\n",
    "\n",
    "set1 = {1,2,3}\n",
    "\n",
    "print(len(set1))"
   ]
  },
  {
   "cell_type": "code",
   "execution_count": 130,
   "metadata": {},
   "outputs": [
    {
     "name": "stdout",
     "output_type": "stream",
     "text": [
      "{2, 3}\n"
     ]
    }
   ],
   "source": [
    "# Task 5\n",
    "\n",
    "set2 = {2,3,4,5}\n",
    "\n",
    "print(set1.intersection(set2))"
   ]
  },
  {
   "cell_type": "code",
   "execution_count": 131,
   "metadata": {},
   "outputs": [
    {
     "data": {
      "text/plain": [
       "{1}"
      ]
     },
     "execution_count": 131,
     "metadata": {},
     "output_type": "execute_result"
    }
   ],
   "source": [
    "set1 - set2 "
   ]
  }
 ],
 "metadata": {
  "kernelspec": {
   "display_name": "Python 3",
   "language": "python",
   "name": "python3"
  },
  "language_info": {
   "codemirror_mode": {
    "name": "ipython",
    "version": 3
   },
   "file_extension": ".py",
   "mimetype": "text/x-python",
   "name": "python",
   "nbconvert_exporter": "python",
   "pygments_lexer": "ipython3",
   "version": "3.7.6"
  }
 },
 "nbformat": 4,
 "nbformat_minor": 4
}
