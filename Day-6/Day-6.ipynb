{
 "cells": [
  {
   "cell_type": "code",
   "execution_count": 2,
   "metadata": {},
   "outputs": [
    {
     "name": "stdout",
     "output_type": "stream",
     "text": [
      "[3, 4, 5, 6, 7]\n"
     ]
    }
   ],
   "source": [
    "# Task 1\n",
    "\n",
    "myList = [1,2,3,4,5]\n",
    "\n",
    "print(list(map(lambda x:x+2,myList)))"
   ]
  },
  {
   "cell_type": "code",
   "execution_count": 12,
   "metadata": {},
   "outputs": [
    {
     "name": "stdout",
     "output_type": "stream",
     "text": [
      "5 4 3 2 1\n",
      "4 3 2 1\n",
      "3 2 1\n",
      "2 1\n",
      "1\n"
     ]
    }
   ],
   "source": [
    "# Task 2\n",
    "\n",
    "p = 5\n",
    "\n",
    "for i in range(p):\n",
    "    \n",
    "    print (*[p-i for i in range(p)])\n",
    "    \n",
    "    p-=1"
   ]
  },
  {
   "cell_type": "code",
   "execution_count": 16,
   "metadata": {},
   "outputs": [
    {
     "name": "stdout",
     "output_type": "stream",
     "text": [
      "0 1 1 2 3 "
     ]
    }
   ],
   "source": [
    "# Task 3\n",
    "\n",
    "n1,n2,N = 0,1,5\n",
    "\n",
    "for i in range(N):\n",
    "    \n",
    "    print(n1,end=\" \")\n",
    "    \n",
    "    n1,n2 = n2,n1+n2"
   ]
  },
  {
   "cell_type": "code",
   "execution_count": 27,
   "metadata": {},
   "outputs": [
    {
     "name": "stdout",
     "output_type": "stream",
     "text": [
      "1634\n",
      "1634 is an armstrong number\n"
     ]
    }
   ],
   "source": [
    "# Task 4\n",
    "\n",
    "def checkArmstrong(N):\n",
    "    \n",
    "    sum,num = 0,N\n",
    "    \n",
    "    while(num > 0):\n",
    "        \n",
    "        remainder = num%10\n",
    "        \n",
    "        num = num//10\n",
    "        \n",
    "        sum += remainder**len(str(N))\n",
    "        \n",
    "    if(sum == N):\n",
    "        \n",
    "        return True\n",
    "    \n",
    "\n",
    "N = int(input())\n",
    "    \n",
    "if(checkArmstrong(N)):\n",
    "    \n",
    "    print(f\"{N} is an armstrong number\")\n",
    "\n",
    "else:\n",
    "   \n",
    "   print(f\"{N} isn't an armstrong number\")"
   ]
  },
  {
   "cell_type": "code",
   "execution_count": 28,
   "metadata": {},
   "outputs": [
    {
     "name": "stdout",
     "output_type": "stream",
     "text": [
      "9 X 1 = 9\n",
      "9 X 2 = 18\n",
      "9 X 3 = 27\n",
      "9 X 4 = 36\n",
      "9 X 5 = 45\n",
      "9 X 6 = 54\n",
      "9 X 7 = 63\n",
      "9 X 8 = 72\n",
      "9 X 9 = 81\n",
      "9 X 10 = 90\n"
     ]
    }
   ],
   "source": [
    "# Task 5\n",
    "\n",
    "for i in range(1,11):\n",
    "    \n",
    "    print(9,\"X\",i,\"=\",9*i)"
   ]
  },
  {
   "cell_type": "code",
   "execution_count": 32,
   "metadata": {},
   "outputs": [
    {
     "name": "stdout",
     "output_type": "stream",
     "text": [
      "1\n",
      "1 is Positive Number\n"
     ]
    }
   ],
   "source": [
    "# Task 6\n",
    "\n",
    "N = int(input())\n",
    "\n",
    "print(f\"{N} is Positive Number\") if(N >= 0) else print(f\"{N} is a Negative Number\")"
   ]
  },
  {
   "cell_type": "code",
   "execution_count": 52,
   "metadata": {},
   "outputs": [
    {
     "name": "stdout",
     "output_type": "stream",
     "text": [
      "465\n",
      "465 Days =  1 Year 100 Days\n"
     ]
    }
   ],
   "source": [
    "# Task 7\n",
    "\n",
    "no_of_days = int(input())\n",
    "\n",
    "if(no_of_days % 365 == 0):\n",
    "    \n",
    "    print(f\"{no_of_days} Days = \",no_of_days // 365,\"Year\")\n",
    "\n",
    "else:\n",
    "    \n",
    "    year = no_of_days // 365\n",
    "    \n",
    "    remaining_days = no_of_days % 365\n",
    "    \n",
    "    print(f\"{no_of_days} Days = \",year,\"Year\",f\"{remaining_days} Days\")"
   ]
  },
  {
   "cell_type": "code",
   "execution_count": 40,
   "metadata": {},
   "outputs": [
    {
     "name": "stdout",
     "output_type": "stream",
     "text": [
      "0.8939966636005579 0.15425144988758405\n"
     ]
    }
   ],
   "source": [
    "# Task 8\n",
    "\n",
    "import math as mt\n",
    "\n",
    "print(mt.sin(90),mt.cos(30))"
   ]
  },
  {
   "cell_type": "code",
   "execution_count": 47,
   "metadata": {},
   "outputs": [
    {
     "name": "stdout",
     "output_type": "stream",
     "text": [
      "Enter First Number: 1\n",
      "Enter Second Number: 2\n",
      "Enter Arithmetic Operator: +\n",
      "1 + 2 = 3\n"
     ]
    }
   ],
   "source": [
    "n1,n2,operator = int(input(\"Enter First Number: \")), int(input(\"Enter Second Number: \")), input(\"Enter Arithmetic Operator: \")\n",
    "\n",
    "if operator == '+':\n",
    "    \n",
    "    print(n1,\"+\",n2,\"=\",n1+n2)\n",
    "    \n",
    "elif operator == '-':\n",
    "    \n",
    "    print(n1,\"-\",n2,\"=\",n1-n2)\n",
    "    \n",
    "elif operator == '*':\n",
    "    \n",
    "    print(n1,\"*\",n2,\"=\",n1*n2)\n",
    "    \n",
    "elif operator == '/':\n",
    "    \n",
    "    print(n1,\"/\",n2,\"=\",n1/n2)\n",
    "    \n",
    "elif operator == '%':\n",
    "    \n",
    "    print(n1,\"%\",n2,\"=\",n1%n2)\n",
    "    \n",
    "else:\n",
    "    \n",
    "    print(\"Invalid Operator\")"
   ]
  },
  {
   "cell_type": "code",
   "execution_count": 44,
   "metadata": {},
   "outputs": [
    {
     "name": "stdout",
     "output_type": "stream",
     "text": [
      "Enter your arithmetic expression. e.g 1 + 2 - 3\n",
      "2 + 3 - 1\n",
      "4\n"
     ]
    }
   ],
   "source": [
    "# Alternative Way\n",
    "\n",
    "arithmeticExpr = input(\"Enter your arithmetic expression. e.g 1 + 2 - 3\\n\") \n",
    "\n",
    "print(eval(arithmeticExpr))"
   ]
  }
 ],
 "metadata": {
  "kernelspec": {
   "display_name": "Python 3",
   "language": "python",
   "name": "python3"
  },
  "language_info": {
   "codemirror_mode": {
    "name": "ipython",
    "version": 3
   },
   "file_extension": ".py",
   "mimetype": "text/x-python",
   "name": "python",
   "nbconvert_exporter": "python",
   "pygments_lexer": "ipython3",
   "version": "3.7.6"
  }
 },
 "nbformat": 4,
 "nbformat_minor": 4
}
