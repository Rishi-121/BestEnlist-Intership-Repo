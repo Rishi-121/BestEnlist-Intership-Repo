{
 "cells": [
  {
   "cell_type": "markdown",
   "metadata": {},
   "source": [
    "### Regular Expressions"
   ]
  },
  {
   "cell_type": "code",
   "execution_count": 12,
   "metadata": {},
   "outputs": [
    {
     "name": "stdout",
     "output_type": "stream",
     "text": [
      "<re.Match object; span=(0, 33), match='I love BestEnlist Python Bootcamp'>\n"
     ]
    }
   ],
   "source": [
    "import re\n",
    "\n",
    "string = \"I love BestEnlist Python Bootcamp\"\n",
    "\n",
    "print(re.search(r\"[a-zA-Z0-9\\s_]+\",string))"
   ]
  },
  {
   "cell_type": "code",
   "execution_count": 35,
   "metadata": {},
   "outputs": [
    {
     "name": "stdout",
     "output_type": "stream",
     "text": [
      "able cab cable\n"
     ]
    }
   ],
   "source": [
    "string = \"able cab cable\"\n",
    "\n",
    "print(*list(filter(lambda i:re.search(r\"(ab)\",i),string.split(\" \"))))"
   ]
  },
  {
   "cell_type": "code",
   "execution_count": 38,
   "metadata": {},
   "outputs": [
    {
     "name": "stdout",
     "output_type": "stream",
     "text": [
      "1 2 3\n"
     ]
    }
   ],
   "source": [
    "string = \"a1 b2 c3\"\n",
    "\n",
    "print(*re.findall(r\"[0-9]+\",string))"
   ]
  },
  {
   "cell_type": "code",
   "execution_count": 37,
   "metadata": {},
   "outputs": [
    {
     "name": "stdout",
     "output_type": "stream",
     "text": [
      "1 234 456 7\n"
     ]
    }
   ],
   "source": [
    "string = \"1 234 4567 I love Python\"\n",
    "\n",
    "print(*re.findall(r\"\\d{1,3}\",string))"
   ]
  },
  {
   "cell_type": "code",
   "execution_count": 36,
   "metadata": {},
   "outputs": [
    {
     "name": "stdout",
     "output_type": "stream",
     "text": [
      "EAT SLEEP CODE REPEAT\n"
     ]
    }
   ],
   "source": [
    "string = \"EAT SLEEP CODE REPEAT\"\n",
    "\n",
    "print(*re.findall(r\"[A-Z]+\",string))"
   ]
  }
 ],
 "metadata": {
  "kernelspec": {
   "display_name": "Python 3",
   "language": "python",
   "name": "python3"
  },
  "language_info": {
   "codemirror_mode": {
    "name": "ipython",
    "version": 3
   },
   "file_extension": ".py",
   "mimetype": "text/x-python",
   "name": "python",
   "nbconvert_exporter": "python",
   "pygments_lexer": "ipython3",
   "version": "3.7.6"
  }
 },
 "nbformat": 4,
 "nbformat_minor": 4
}
