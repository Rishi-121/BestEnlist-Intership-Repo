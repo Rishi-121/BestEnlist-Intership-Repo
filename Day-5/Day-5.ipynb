{
 "cells": [
  {
   "cell_type": "markdown",
   "metadata": {},
   "source": [
    "### Functions"
   ]
  },
  {
   "cell_type": "code",
   "execution_count": 1,
   "metadata": {},
   "outputs": [
    {
     "name": "stdout",
     "output_type": "stream",
     "text": [
      "5\n"
     ]
    }
   ],
   "source": [
    "'''\n",
    "    \n",
    "    def function_name(<parameters>):\n",
    "    \n",
    "        // Executional Statements\n",
    "        . . .\n",
    "        . . .\n",
    "        \n",
    "    function_name() // Function call for its execution\n",
    "\n",
    "'''\n",
    "\n",
    "def add(a,b):\n",
    "    \n",
    "    return a+b\n",
    "\n",
    "print(add(2,3))"
   ]
  },
  {
   "cell_type": "code",
   "execution_count": 3,
   "metadata": {},
   "outputs": [
    {
     "name": "stdout",
     "output_type": "stream",
     "text": [
      "[0, 2, 3, 4, 5, 6]\n"
     ]
    }
   ],
   "source": [
    "def myFun(num):\n",
    "    \n",
    "    num[0] = 0\n",
    "    \n",
    "    return num\n",
    "    \n",
    "myList = [1,2,3,4,5,6]\n",
    "\n",
    "print(myFun(myList))"
   ]
  },
  {
   "cell_type": "markdown",
   "metadata": {},
   "source": [
    "### *args (Non keyword Arguments) "
   ]
  },
  {
   "cell_type": "code",
   "execution_count": 4,
   "metadata": {},
   "outputs": [
    {
     "name": "stdout",
     "output_type": "stream",
     "text": [
      "3\n",
      "6\n",
      "15\n"
     ]
    }
   ],
   "source": [
    "'''\n",
    "    \n",
    "    It's helpful when you don't know about the no of arguments passed to a function. \n",
    "    \n",
    "    Here, we specify the arguments only.\n",
    "\n",
    "'''\n",
    "\n",
    "def add(*num):\n",
    "    \n",
    "    return sum(num)\n",
    "\n",
    "print(add(1,2)) # 2 numeric arguments\n",
    "\n",
    "print(add(1,2,3)) # 3 numeric arguments\n",
    "\n",
    "print(add(1,2,3,4,5)) # 5 numeric arguments"
   ]
  },
  {
   "cell_type": "markdown",
   "metadata": {},
   "source": [
    "### **kwargs (Keyword Arguments)"
   ]
  },
  {
   "cell_type": "code",
   "execution_count": 23,
   "metadata": {},
   "outputs": [
    {
     "name": "stdout",
     "output_type": "stream",
     "text": [
      "<class 'dict'>\n",
      "FirstName : Hrushikesh\n",
      "LastName : Das\n"
     ]
    }
   ],
   "source": [
    "'''\n",
    "\n",
    "    Here, we specify the arguments in a key-value pair.\n",
    "\n",
    "'''\n",
    "\n",
    "def studentDetails(**student):\n",
    "    \n",
    "    print(type(student))\n",
    "    \n",
    "    for key,value in student.items():\n",
    "        \n",
    "        print(key,\":\",value)\n",
    "        \n",
    "studentDetails(FirstName=\"Hrushikesh\",LastName=\"Das\")"
   ]
  },
  {
   "cell_type": "markdown",
   "metadata": {},
   "source": [
    "### Default Arguments"
   ]
  },
  {
   "cell_type": "code",
   "execution_count": 27,
   "metadata": {},
   "outputs": [
    {
     "name": "stdout",
     "output_type": "stream",
     "text": [
      "National fruit of India is 🥭\n"
     ]
    }
   ],
   "source": [
    "'''\n",
    "    \n",
    "    Here, we can specify the default value for an argument.\n",
    "\n",
    "'''\n",
    "\n",
    "def gk(fruit=\"🥭\"):\n",
    "    \n",
    "    print(\"National fruit of India is\",fruit)\n",
    "    \n",
    "gk()"
   ]
  },
  {
   "cell_type": "code",
   "execution_count": 35,
   "metadata": {},
   "outputs": [
    {
     "name": "stdout",
     "output_type": "stream",
     "text": [
      "10\n",
      "2\n",
      "10 + 2 = 12\n",
      "10 - 2 = 8\n",
      "10 / 2 = 5.0\n",
      "10 * 2 = 20\n"
     ]
    }
   ],
   "source": [
    "# Task 1\n",
    "\n",
    "def arithmeticOperation(x,y):\n",
    "    \n",
    "    print(x,\"+\",y,\"=\",x+y)\n",
    "    \n",
    "    print(x,\"-\",y,\"=\",x-y)\n",
    "    \n",
    "    print(x,\"/\",y,\"=\",x/y)\n",
    "    \n",
    "    print(x,\"*\",y,\"=\",x*y)\n",
    "    \n",
    "    \n",
    "a,b = int(input()),int(input())\n",
    "\n",
    "arithmeticOperation(a,b)"
   ]
  },
  {
   "cell_type": "code",
   "execution_count": 37,
   "metadata": {},
   "outputs": [
    {
     "name": "stdout",
     "output_type": "stream",
     "text": [
      "Patient's Name: Hrushikesh\n",
      "Patient's Body Temperature: 98\n"
     ]
    }
   ],
   "source": [
    "# Task 2\n",
    "\n",
    "def COVID( patient_name, body_temp = 98):\n",
    "    \n",
    "    print(\"Patient's Name:\",patient_name)\n",
    "    \n",
    "    print(\"Patient's Body Temperature:\",body_temp)\n",
    "\n",
    "COVID(\"Hrushikesh\")"
   ]
  }
 ],
 "metadata": {
  "kernelspec": {
   "display_name": "Python 3",
   "language": "python",
   "name": "python3"
  },
  "language_info": {
   "codemirror_mode": {
    "name": "ipython",
    "version": 3
   },
   "file_extension": ".py",
   "mimetype": "text/x-python",
   "name": "python",
   "nbconvert_exporter": "python",
   "pygments_lexer": "ipython3",
   "version": "3.7.6"
  }
 },
 "nbformat": 4,
 "nbformat_minor": 4
}
